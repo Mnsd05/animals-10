{
  "nbformat": 4,
  "nbformat_minor": 0,
  "metadata": {
    "colab": {
      "provenance": []
    },
    "kernelspec": {
      "name": "python3",
      "display_name": "Python 3"
    },
    "language_info": {
      "name": "python"
    }
  },
  "cells": [
    {
      "cell_type": "markdown",
      "source": [
        "# Pull data and github repo"
      ],
      "metadata": {
        "id": "41aTRSNqRmOS"
      }
    },
    {
      "cell_type": "code",
      "source": [
        "from google.colab import drive\n",
        "drive.mount('/content/drive')\n",
        "\n",
        "DRIVE_PROJECT_PATH = \"/content/drive/MyDrive/animal-classification\"\n",
        "MODEL_FOLDER = \"models\"\n",
        "LOG_FOLDER = \"logs\"\n",
        "NOTEBOOK_FILE = \"animal-classification.ipynb\"\n",
        "GITHUB_PROJECT_PATH = \"/content/animals-10\"\n",
        "DATA_PATH = \"/content/dataset/animals10/raw-img\""
      ],
      "metadata": {
        "colab": {
          "base_uri": "https://localhost:8080/"
        },
        "id": "tJXhydV2Rq-e",
        "outputId": "c434aeec-df74-42e0-bb8b-fe52a732800c"
      },
      "execution_count": 1,
      "outputs": [
        {
          "output_type": "stream",
          "name": "stdout",
          "text": [
            "Mounted at /content/drive\n"
          ]
        }
      ]
    },
    {
      "cell_type": "code",
      "source": [
        "import os\n",
        "import sys\n",
        "from tempfile import NamedTemporaryFile\n",
        "from urllib.request import urlopen\n",
        "from urllib.parse import unquote, urlparse\n",
        "from urllib.error import HTTPError\n",
        "from zipfile import ZipFile\n",
        "import tarfile\n",
        "import shutil\n",
        "\n",
        "CHUNK_SIZE = 40960\n",
        "DATA_SOURCE_MAPPING = 'animals10:https%3A%2F%2Fstorage.googleapis.com%2Fkaggle-data-sets%2F59760%2F840806%2Fbundle%2Farchive.zip%3FX-Goog-Algorithm%3DGOOG4-RSA-SHA256%26X-Goog-Credential%3Dgcp-kaggle-com%2540kaggle-161607.iam.gserviceaccount.com%252F20240530%252Fauto%252Fstorage%252Fgoog4_request%26X-Goog-Date%3D20240530T065741Z%26X-Goog-Expires%3D259200%26X-Goog-SignedHeaders%3Dhost%26X-Goog-Signature%3D55fed7b0a79aee07278d3bf8ee07e1bcc76a8fac79e9dc88d25bc4a73ecbf9ebca7fd16d9a9982b896c99969c7f0132c9e5eb6f50732c183382c38ba40aad851c55b8e736ea047d41eed11e5b4b55ffd6e782b789c45f2b427dac29beead372ff3bfcf097509a2118e10d6d507f2a87d6be0443166b89f61a7ddda6282c032bb23fcae408744a8d25da68df60a12dcc314606e522f6ddf0ba753bb20da9019eac5145a8a2266fe878731d44a45fbe6b8fb601fd796a386ce3bf594578caed467825df6fae8a9d5f76aa0215b9d36b23bc4ec4167962488c1f3d5b10f389d9deee3efd3ddb90594ea7626877042348f1b51b336307db9c2946742da4c35010d35'\n",
        "\n",
        "KAGGLE_INPUT_PATH='dataset'\n",
        "\n",
        "!umount /kaggle/input/ 2> /dev/null\n",
        "os.makedirs(KAGGLE_INPUT_PATH, 0o777, exist_ok=True)\n",
        "\n",
        "try:\n",
        "  os.symlink(KAGGLE_INPUT_PATH, os.path.join(\"..\", 'input'), target_is_directory=True)\n",
        "except FileExistsError:\n",
        "  pass\n",
        "\n",
        "for data_source_mapping in DATA_SOURCE_MAPPING.split(','):\n",
        "    directory, download_url_encoded = data_source_mapping.split(':')\n",
        "    download_url = unquote(download_url_encoded)\n",
        "    filename = urlparse(download_url).path\n",
        "    destination_path = os.path.join(KAGGLE_INPUT_PATH, directory)\n",
        "    try:\n",
        "        with urlopen(download_url) as fileres, NamedTemporaryFile() as tfile:\n",
        "            total_length = fileres.headers['content-length']\n",
        "            print(f'Downloading {directory}, {total_length} bytes compressed')\n",
        "            dl = 0\n",
        "            data = fileres.read(CHUNK_SIZE)\n",
        "            while len(data) > 0:\n",
        "                dl += len(data)\n",
        "                tfile.write(data)\n",
        "                done = int(50 * dl / int(total_length))\n",
        "                sys.stdout.write(f\"\\r[{'=' * done}{' ' * (50-done)}] {dl} bytes downloaded\")\n",
        "                sys.stdout.flush()\n",
        "                data = fileres.read(CHUNK_SIZE)\n",
        "            if filename.endswith('.zip'):\n",
        "              with ZipFile(tfile) as zfile:\n",
        "                zfile.extractall(destination_path)\n",
        "            else:\n",
        "              with tarfile.open(tfile.name) as tarfile:\n",
        "                tarfile.extractall(destination_path)\n",
        "            print(f'\\nDownloaded and uncompressed: {directory}')\n",
        "    except HTTPError as e:\n",
        "        print(f'Failed to load (likely expired) {download_url} to path {destination_path}')\n",
        "        continue\n",
        "    except OSError as e:\n",
        "        print(f'Failed to load {download_url} to path {destination_path}')\n",
        "        continue\n",
        "\n",
        "print('Data source import complete.')\n",
        "\n"
      ],
      "metadata": {
        "colab": {
          "base_uri": "https://localhost:8080/"
        },
        "id": "4KyyG69DRvFt",
        "outputId": "c7f7b6f3-6a4e-451e-efd7-ab1019303ca7"
      },
      "execution_count": 3,
      "outputs": [
        {
          "output_type": "stream",
          "name": "stdout",
          "text": [
            "Downloading animals10, 614087302 bytes compressed\n",
            "[==================================================] 614087302 bytes downloaded\n",
            "Downloaded and uncompressed: animals10\n",
            "Data source import complete.\n"
          ]
        }
      ]
    },
    {
      "cell_type": "markdown",
      "source": [
        "Pull from github and switch branch"
      ],
      "metadata": {
        "id": "CUuBBvKYTKWH"
      }
    },
    {
      "cell_type": "code",
      "source": [
        "!chmod +x config.sh\n",
        "!./config.sh"
      ],
      "metadata": {
        "id": "MQBYpAysRvji"
      },
      "execution_count": null,
      "outputs": []
    },
    {
      "cell_type": "code",
      "source": [
        "%cd animals-10"
      ],
      "metadata": {
        "id": "HaB886VyTDjT"
      },
      "execution_count": null,
      "outputs": []
    },
    {
      "cell_type": "code",
      "source": [
        "!git pull origin modelling"
      ],
      "metadata": {
        "id": "eolxbMAgTD_I"
      },
      "execution_count": null,
      "outputs": []
    },
    {
      "cell_type": "code",
      "source": [
        "!git branch modelling\n",
        "!git checkout modelling"
      ],
      "metadata": {
        "id": "1yos3PC3TIjA"
      },
      "execution_count": null,
      "outputs": []
    },
    {
      "cell_type": "markdown",
      "source": [
        "Push changes to github"
      ],
      "metadata": {
        "id": "oZiN6HzbTPRo"
      }
    },
    {
      "cell_type": "code",
      "source": [
        "!rm animal_classification.ipynb\n",
        "!cp \"/content/drive/MyDrive/animal-classification/animals10\" .\n",
        "!mv animal_classification animals10.ipynb"
      ],
      "metadata": {
        "id": "SyDvc6MKTUl8"
      },
      "execution_count": null,
      "outputs": []
    },
    {
      "cell_type": "code",
      "source": [
        "!rm .gitignore\n",
        "!touch .gitignore\n",
        "!echo \"__pycache__/\" >> .gitignore\n",
        "!echo \"logs/\" >> .gitignore\n",
        "!echo \"models/*.keras\" >> .gitignore"
      ],
      "metadata": {
        "id": "aVacnPKMTeIq"
      },
      "execution_count": null,
      "outputs": []
    },
    {
      "cell_type": "code",
      "source": [
        "!git add *\n",
        "!git commit -m 'Fix identation'  # commit in Colab\n",
        "!git push origin modelling"
      ],
      "metadata": {
        "id": "WIbFI1oiTjF7"
      },
      "execution_count": null,
      "outputs": []
    }
  ]
}